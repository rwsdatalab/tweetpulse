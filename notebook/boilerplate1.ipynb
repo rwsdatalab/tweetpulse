{
 "cells": [
  {
   "cell_type": "code",
   "execution_count": 4,
   "id": "b8988036-e215-4339-b469-3a89040fb785",
   "metadata": {},
   "outputs": [
    {
     "name": "stdout",
     "output_type": "stream",
     "text": [
      "Requirement already satisfied: numpy in /home/roel/projects/envs/juplab/lib/python3.9/site-packages (1.24.1)\n",
      "Note: you may need to restart the kernel to use updated packages.\n",
      "Collecting holoviews\n",
      "  Downloading holoviews-1.15.4-py2.py3-none-any.whl (4.3 MB)\n",
      "\u001b[K     |████████████████████████████████| 4.3 MB 2.6 MB/s eta 0:00:01\n",
      "\u001b[?25hRequirement already satisfied: param<2.0,>=1.9.3 in /home/roel/projects/envs/juplab/lib/python3.9/site-packages (from holoviews) (1.12.3)\n",
      "Requirement already satisfied: pyviz-comms>=0.7.4 in /home/roel/projects/envs/juplab/lib/python3.9/site-packages (from holoviews) (2.2.1)\n",
      "Requirement already satisfied: numpy>=1.0 in /home/roel/projects/envs/juplab/lib/python3.9/site-packages (from holoviews) (1.24.1)\n",
      "Requirement already satisfied: panel>=0.13.1 in /home/roel/projects/envs/juplab/lib/python3.9/site-packages (from holoviews) (0.14.2)\n",
      "Collecting colorcet\n",
      "  Downloading colorcet-3.0.1-py2.py3-none-any.whl (1.7 MB)\n",
      "\u001b[K     |████████████████████████████████| 1.7 MB 44.7 MB/s eta 0:00:01\n",
      "\u001b[?25hCollecting pandas>=0.20.0\n",
      "  Downloading pandas-1.5.2-cp39-cp39-manylinux_2_17_x86_64.manylinux2014_x86_64.whl (12.2 MB)\n",
      "\u001b[K     |████████████████████████████████| 12.2 MB 30.9 MB/s eta 0:00:01\n",
      "\u001b[?25hRequirement already satisfied: packaging in /home/roel/projects/envs/juplab/lib/python3.9/site-packages (from holoviews) (23.0)\n",
      "Requirement already satisfied: pyct>=0.4.4 in /home/roel/projects/envs/juplab/lib/python3.9/site-packages (from panel>=0.13.1->holoviews) (0.4.8)\n",
      "Requirement already satisfied: requests in /home/roel/projects/envs/juplab/lib/python3.9/site-packages (from panel>=0.13.1->holoviews) (2.28.2)\n",
      "Requirement already satisfied: bokeh<2.5.0,>=2.4.0 in /home/roel/projects/envs/juplab/lib/python3.9/site-packages (from panel>=0.13.1->holoviews) (2.4.3)\n",
      "Requirement already satisfied: setuptools>=42 in /home/roel/projects/envs/juplab/lib/python3.9/site-packages (from panel>=0.13.1->holoviews) (44.0.0)\n",
      "Requirement already satisfied: tqdm>=4.48.0 in /home/roel/projects/envs/juplab/lib/python3.9/site-packages (from panel>=0.13.1->holoviews) (4.64.1)\n",
      "Requirement already satisfied: typing-extensions in /home/roel/projects/envs/juplab/lib/python3.9/site-packages (from panel>=0.13.1->holoviews) (4.4.0)\n",
      "Requirement already satisfied: markdown in /home/roel/projects/envs/juplab/lib/python3.9/site-packages (from panel>=0.13.1->holoviews) (3.4.1)\n",
      "Requirement already satisfied: bleach in /home/roel/projects/envs/juplab/lib/python3.9/site-packages (from panel>=0.13.1->holoviews) (5.0.1)\n",
      "Requirement already satisfied: python-dateutil>=2.8.1 in /home/roel/projects/envs/juplab/lib/python3.9/site-packages (from pandas>=0.20.0->holoviews) (2.8.2)\n",
      "Requirement already satisfied: pytz>=2020.1 in /home/roel/projects/envs/juplab/lib/python3.9/site-packages (from pandas>=0.20.0->holoviews) (2022.7.1)\n",
      "Requirement already satisfied: certifi>=2017.4.17 in /home/roel/projects/envs/juplab/lib/python3.9/site-packages (from requests->panel>=0.13.1->holoviews) (2022.12.7)\n",
      "Requirement already satisfied: charset-normalizer<4,>=2 in /home/roel/projects/envs/juplab/lib/python3.9/site-packages (from requests->panel>=0.13.1->holoviews) (3.0.1)\n",
      "Requirement already satisfied: idna<4,>=2.5 in /home/roel/projects/envs/juplab/lib/python3.9/site-packages (from requests->panel>=0.13.1->holoviews) (3.4)\n",
      "Requirement already satisfied: urllib3<1.27,>=1.21.1 in /home/roel/projects/envs/juplab/lib/python3.9/site-packages (from requests->panel>=0.13.1->holoviews) (1.26.14)\n",
      "Requirement already satisfied: tornado>=5.1 in /home/roel/projects/envs/juplab/lib/python3.9/site-packages (from bokeh<2.5.0,>=2.4.0->panel>=0.13.1->holoviews) (6.2)\n",
      "Requirement already satisfied: pillow>=7.1.0 in /home/roel/projects/envs/juplab/lib/python3.9/site-packages (from bokeh<2.5.0,>=2.4.0->panel>=0.13.1->holoviews) (9.4.0)\n",
      "Requirement already satisfied: Jinja2>=2.9 in /home/roel/projects/envs/juplab/lib/python3.9/site-packages (from bokeh<2.5.0,>=2.4.0->panel>=0.13.1->holoviews) (3.1.2)\n",
      "Requirement already satisfied: PyYAML>=3.10 in /home/roel/projects/envs/juplab/lib/python3.9/site-packages (from bokeh<2.5.0,>=2.4.0->panel>=0.13.1->holoviews) (6.0)\n",
      "Requirement already satisfied: importlib-metadata>=4.4; python_version < \"3.10\" in /home/roel/projects/envs/juplab/lib/python3.9/site-packages (from markdown->panel>=0.13.1->holoviews) (6.0.0)\n",
      "Requirement already satisfied: webencodings in /home/roel/projects/envs/juplab/lib/python3.9/site-packages (from bleach->panel>=0.13.1->holoviews) (0.5.1)\n",
      "Requirement already satisfied: six>=1.9.0 in /home/roel/projects/envs/juplab/lib/python3.9/site-packages (from bleach->panel>=0.13.1->holoviews) (1.16.0)\n",
      "Requirement already satisfied: MarkupSafe>=2.0 in /home/roel/projects/envs/juplab/lib/python3.9/site-packages (from Jinja2>=2.9->bokeh<2.5.0,>=2.4.0->panel>=0.13.1->holoviews) (2.1.2)\n",
      "Requirement already satisfied: zipp>=0.5 in /home/roel/projects/envs/juplab/lib/python3.9/site-packages (from importlib-metadata>=4.4; python_version < \"3.10\"->markdown->panel>=0.13.1->holoviews) (3.11.0)\n",
      "Installing collected packages: colorcet, pandas, holoviews\n",
      "Successfully installed colorcet-3.0.1 holoviews-1.15.4 pandas-1.5.2\n",
      "Note: you may need to restart the kernel to use updated packages.\n"
     ]
    }
   ],
   "source": [
    "%pip install numpy\n",
    "%pip install holoviews"
   ]
  },
  {
   "cell_type": "code",
   "execution_count": 23,
   "id": "e9203ac3-326d-4912-a1de-d2ff9a93bfa7",
   "metadata": {},
   "outputs": [],
   "source": [
    "material = pn.template.MaterialTemplate(title='Material Template', theme='dark')\n",
    "\n",
    "xs = np.linspace(0, np.pi)\n",
    "freq = pn.widgets.FloatSlider(name=\"Frequency\", start=0, end=10, value=2)\n",
    "phase = pn.widgets.FloatSlider(name=\"Phase\", start=0, end=np.pi)\n",
    "\n",
    "@pn.depends(freq=freq, phase=phase)\n",
    "def sine(freq, phase):\n",
    "    return hv.Curve((xs, np.sin(xs*freq+phase))).opts(\n",
    "        responsive=True, min_height=400)\n",
    "\n",
    "@pn.depends(freq=freq, phase=phase)\n",
    "def cosine(freq, phase):\n",
    "    return hv.Curve((xs, np.cos(xs*freq+phase))).opts(\n",
    "        responsive=True, min_height=400)\n",
    "\n",
    "material.sidebar.append(freq)\n",
    "material.sidebar.append(phase)\n",
    "\n",
    "material.main.append(\n",
    "    pn.Row(\n",
    "        pn.Card(hv.DynamicMap(sine), title='Sine'),\n",
    "        pn.Card(hv.DynamicMap(cosine), title='Cosine')\n",
    "    )\n",
    ")\n",
    "material.servable();"
   ]
  },
  {
   "cell_type": "code",
   "execution_count": null,
   "id": "e6c82cba-e936-4374-9e73-a2f469fd4b1f",
   "metadata": {},
   "outputs": [],
   "source": []
  },
  {
   "cell_type": "code",
   "execution_count": 24,
   "id": "fc633dab-8390-4cf0-9402-09b8612d21d5",
   "metadata": {},
   "outputs": [
    {
     "name": "stdout",
     "output_type": "stream",
     "text": [
      "Launching server at http://localhost:35251\n"
     ]
    },
    {
     "data": {
      "text/plain": [
       "<panel.io.server.Server at 0x7f65f70ccaf0>"
      ]
     },
     "execution_count": 24,
     "metadata": {},
     "output_type": "execute_result"
    }
   ],
   "source": [
    "material.show()"
   ]
  }
 ],
 "metadata": {
  "kernelspec": {
   "display_name": "Python 3 (ipykernel)",
   "language": "python",
   "name": "python3"
  },
  "language_info": {
   "codemirror_mode": {
    "name": "ipython",
    "version": 3
   },
   "file_extension": ".py",
   "mimetype": "text/x-python",
   "name": "python",
   "nbconvert_exporter": "python",
   "pygments_lexer": "ipython3",
   "version": "3.8.12"
  }
 },
 "nbformat": 4,
 "nbformat_minor": 5
}
